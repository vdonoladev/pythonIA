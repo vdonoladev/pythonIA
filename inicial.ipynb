{
 "cells": [
  {
   "cell_type": "markdown",
   "metadata": {},
   "source": [
    "# Projeto Python IA: Inteligência Artificial e Previsões\n",
    "\n",
    "### Case: Score de Crédito dos Clientes\n",
    "\n",
    "Você foi contratado por um banco para conseguir definir o score de crédito dos clientes. Você precisa analisar todos os clientes do banco e, com base nessa análise, criar um modelo que consiga ler as informações do cliente e dizer automaticamente o score de crédito dele: Ruim, Ok, Bom\n",
    "\n",
    "Arquivos da aula: https://drive.google.com/drive/folders/1FbDqVq4XLvU85VBlVIMJ73p9oOu6u2-J?usp=drive_link"
   ]
  },
  {
   "cell_type": "code",
   "execution_count": null,
   "metadata": {},
   "outputs": [],
   "source": [
    "!pip install pandas scikit-learn"
   ]
  },
  {
   "cell_type": "code",
   "execution_count": null,
   "metadata": {},
   "outputs": [],
   "source": [
    "# Passo 1 - Importar a base de dados\n",
    "import pandas as pd\n",
    "\n",
    "table = pd.read_csv(\"clientes.csv\")"
   ]
  },
  {
   "cell_type": "code",
   "execution_count": null,
   "metadata": {},
   "outputs": [],
   "source": [
    "# Passo 2 - Preparar a base de dados para a inteligência artificial\n",
    "from sklearn.preprocessing import LabelEncoder\n",
    "\n",
    "encode01 = LabelEncoder() # profissao\n",
    "\n",
    "table[\"profissao\"] = encode01.fit_transform(table[\"profissao\"])\n",
    "\n",
    "encode02 = LabelEncoder() # mix_credito\n",
    "\n",
    "table[\"mix_credito\"] = encode02.fit_transform(table[\"mix_credito\"])\n",
    "\n",
    "encode03 = LabelEncoder() # comportamento_pagamento\n",
    "table[\"comportamento_pagamento\"] = encode03.fit_transform(table[\"comportamento_pagamento\"])"
   ]
  },
  {
   "cell_type": "code",
   "execution_count": null,
   "metadata": {},
   "outputs": [],
   "source": [
    "# Passo 2.1 - Separar a base de dados para a inteligência artificial | Dados de treino e de teste\n",
    "y = table[\"score_credito\"]\n",
    "x = table.drop(columns=[\"score_credito\", \"id_cliente\"])\n",
    "\n",
    "from sklearn.model_selection import train_test_split\n",
    "x_training, x_test, y_training, y_test = train_test_split(x, y, test_size=0.3)"
   ]
  },
  {
   "cell_type": "code",
   "execution_count": null,
   "metadata": {},
   "outputs": [],
   "source": [
    "# Passo 3 - Criar o modelo de inteligência artificial\n",
    "\n",
    "# Árvore de Decisão - RandomForest\n",
    "\n",
    "# Vizinhos Próximos - KNN"
   ]
  },
  {
   "cell_type": "code",
   "execution_count": null,
   "metadata": {},
   "outputs": [],
   "source": [
    "# Passo 3.1 - Importar o algoritmo de inteligência artificial\n",
    "\n",
    "# Árvore de Decisão - RandomForest\n",
    "from sklearn.ensemble import RandomForestClassifier\n",
    "\n",
    "# Vizinhos Próximos - KNN\n",
    "from sklearn.neighbors import KNeighborsClassifier"
   ]
  },
  {
   "cell_type": "code",
   "execution_count": null,
   "metadata": {},
   "outputs": [],
   "source": [
    "# Passo 3.2 - Criar o algoritmo de inteligência artificial\n",
    "\n",
    "# Árvore de Decisão - RandomForest\n",
    "modelRandomForest = RandomForestClassifier()\n",
    "\n",
    "# Vizinhos Próximos - KNN\n",
    "modelKNN = KNeighborsClassifier()"
   ]
  },
  {
   "cell_type": "code",
   "execution_count": null,
   "metadata": {},
   "outputs": [],
   "source": [
    "# Passo 3.3 - Treinar o algoritmo de inteligência artificial\n",
    "\n",
    "# Árvore de Decisão - RandomForest\n",
    "modelRandomForest.fit(x_training, y_training)\n",
    "\n",
    "# Vizinhos Próximos - KNN\n",
    "modelKNN.fit(x_training, y_training)"
   ]
  },
  {
   "cell_type": "code",
   "execution_count": null,
   "metadata": {},
   "outputs": [],
   "source": [
    "# Passo 4 - Escolher o melhor modelo de inteligência artificial\n",
    "\n",
    "# Árvore de Decisão - RandomForest\n",
    "forecastRandomForest = modelRandomForest.predict(x_test)\n",
    "\n",
    "# Vizinhos Próximos - KNN\n",
    "forecastKNN = modelKNN.predict(x_test)\n",
    "\n",
    "from sklearn.metrics import accuracy_score\n",
    "\n",
    "display(accuracy_score(y_test, forecastRandomForest))\n",
    "display(accuracy_score(y_test, forecastKNN))"
   ]
  },
  {
   "cell_type": "code",
   "execution_count": null,
   "metadata": {},
   "outputs": [],
   "source": [
    "# Passo 5 - Fazer novas previsões"
   ]
  }
 ],
 "metadata": {
  "kernelspec": {
   "display_name": ".venv",
   "language": "python",
   "name": "python3"
  },
  "language_info": {
   "codemirror_mode": {
    "name": "ipython",
    "version": 3
   },
   "file_extension": ".py",
   "mimetype": "text/x-python",
   "name": "python",
   "nbconvert_exporter": "python",
   "pygments_lexer": "ipython3",
   "version": "3.10.12"
  },
  "orig_nbformat": 4
 },
 "nbformat": 4,
 "nbformat_minor": 2
}
